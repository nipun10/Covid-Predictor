{
 "cells": [
  {
   "cell_type": "code",
   "execution_count": 1,
   "metadata": {},
   "outputs": [],
   "source": [
    "import csv\n",
    "import keras\n",
    "import pandas\n",
    "from keras.models import Model\n",
    "from keras.layers import Dense, Dropout, LSTM, Input, Activation, concatenate, BatchNormalization, Conv1D, Conv2D, Flatten, MaxPooling1D\n",
    "from keras import optimizers\n",
    "import numpy as np\n",
    "import tensorflow as tf\n",
    "import math\n",
    "from keras.callbacks import EarlyStopping, ModelCheckpoint"
   ]
  },
  {
   "cell_type": "code",
   "execution_count": 19,
   "metadata": {},
   "outputs": [
    {
     "data": {
      "text/html": [
       "<div>\n",
       "<style scoped>\n",
       "    .dataframe tbody tr th:only-of-type {\n",
       "        vertical-align: middle;\n",
       "    }\n",
       "\n",
       "    .dataframe tbody tr th {\n",
       "        vertical-align: top;\n",
       "    }\n",
       "\n",
       "    .dataframe thead th {\n",
       "        text-align: right;\n",
       "    }\n",
       "</style>\n",
       "<table border=\"1\" class=\"dataframe\">\n",
       "  <thead>\n",
       "    <tr style=\"text-align: right;\">\n",
       "      <th></th>\n",
       "      <th>date</th>\n",
       "      <th>cases</th>\n",
       "      <th>deaths</th>\n",
       "    </tr>\n",
       "  </thead>\n",
       "  <tbody>\n",
       "    <tr>\n",
       "      <td>228</td>\n",
       "      <td>2020-09-05</td>\n",
       "      <td>6260993</td>\n",
       "      <td>188409</td>\n",
       "    </tr>\n",
       "    <tr>\n",
       "      <td>229</td>\n",
       "      <td>2020-09-06</td>\n",
       "      <td>6292054</td>\n",
       "      <td>188815</td>\n",
       "    </tr>\n",
       "    <tr>\n",
       "      <td>230</td>\n",
       "      <td>2020-09-07</td>\n",
       "      <td>6317221</td>\n",
       "      <td>189076</td>\n",
       "    </tr>\n",
       "    <tr>\n",
       "      <td>231</td>\n",
       "      <td>2020-09-08</td>\n",
       "      <td>6345771</td>\n",
       "      <td>189538</td>\n",
       "    </tr>\n",
       "    <tr>\n",
       "      <td>232</td>\n",
       "      <td>2020-09-09</td>\n",
       "      <td>6378972</td>\n",
       "      <td>190714</td>\n",
       "    </tr>\n",
       "  </tbody>\n",
       "</table>\n",
       "</div>"
      ],
      "text/plain": [
       "           date    cases  deaths\n",
       "228  2020-09-05  6260993  188409\n",
       "229  2020-09-06  6292054  188815\n",
       "230  2020-09-07  6317221  189076\n",
       "231  2020-09-08  6345771  189538\n",
       "232  2020-09-09  6378972  190714"
      ]
     },
     "execution_count": 19,
     "metadata": {},
     "output_type": "execute_result"
    }
   ],
   "source": [
    "url = 'https://raw.githubusercontent.com/nytimes/covid-19-data/master/us.csv'\n",
    "df = pandas.read_csv(url)\n",
    "inputs = df['cases'].to_numpy()             \n",
    "outputs = df['deaths'].to_numpy()\n",
    "df.tail(5)"
   ]
  },
  {
   "cell_type": "code",
   "execution_count": 20,
   "metadata": {},
   "outputs": [],
   "source": [
    "past = 5\n",
    "s = (len(inputs) , past  * 2)\n",
    "betterinputs = np.zeros(s)\n",
    "betteroutputs = np.zeros(len(inputs))\n",
    "\n",
    "for i in range(len(inputs) - past):\n",
    "  temp = np.zeros(past * 2)\n",
    "  temp[0 : past] = inputs[i : i+ past]\n",
    "  temp[past:] = outputs[i : i + past] \n",
    "  betterinputs[i] = temp\n",
    "  betteroutputs[i] = inputs[i+past]"
   ]
  },
  {
   "cell_type": "code",
   "execution_count": 21,
   "metadata": {},
   "outputs": [
    {
     "name": "stdout",
     "output_type": "stream",
     "text": [
      "[1. 1. 1. 2. 3. 0. 0. 0. 0. 0.]\n"
     ]
    }
   ],
   "source": [
    "betterinputs = betterinputs[0:len(df) - past] \n",
    "betteroutputs = betteroutputs[0:len(df) - past]\n",
    "print(betterinputs[0])"
   ]
  },
  {
   "cell_type": "code",
   "execution_count": 22,
   "metadata": {},
   "outputs": [],
   "source": [
    "split = int(0.85*len(betterinputs))\n",
    "X_train, X_test, y_train, y_test = betterinputs[:split], betterinputs[split:], betteroutputs[:split], betteroutputs[split:]\n",
    "X_train = np.expand_dims(X_train, axis=2)  \n",
    "X_test = np.expand_dims(X_test, axis=2)"
   ]
  },
  {
   "cell_type": "code",
   "execution_count": 23,
   "metadata": {},
   "outputs": [
    {
     "name": "stdout",
     "output_type": "stream",
     "text": [
      "5561.268828931318\n"
     ]
    }
   ],
   "source": [
    "from sklearn.linear_model import RidgeCV\n",
    "model = RidgeCV(cv=2)\n",
    "X_train, X_test, y_train, y_test = betterinputs[:split], betterinputs[split:], betteroutputs[:split], betteroutputs[split:]\n",
    "model.fit(X_train, y_train)\n",
    "print(\"{}\".format(np.linalg.norm(model.predict(X_test) - y_test, 1)/len(y_test)))"
   ]
  },
  {
   "cell_type": "code",
   "execution_count": 24,
   "metadata": {},
   "outputs": [
    {
     "data": {
      "text/plain": [
       "<matplotlib.legend.Legend at 0x20de7c8b1c8>"
      ]
     },
     "execution_count": 24,
     "metadata": {},
     "output_type": "execute_result"
    },
    {
     "data": {
      "image/png": "[encoded data removed]",
      "text/plain": [
       "<Figure size 432x288 with 1 Axes>"
      ]
     },
     "metadata": {
      "needs_background": "light"
     },
     "output_type": "display_data"
    }
   ],
   "source": [
    "import matplotlib.pyplot as plt\n",
    "\n",
    "predict = model.predict(X_test)\n",
    "plt.semilogy(predict, label = \"model predictions\")\n",
    "plt.semilogy(y_test , label = \"real values\")\n",
    "plt.title('model accuracy on testing data')\n",
    "plt.ylabel('deaths')\n",
    "plt.xlabel('cases')\n",
    "plt.legend()"
   ]
  },
  {
   "cell_type": "code",
   "execution_count": 29,
   "metadata": {},
   "outputs": [
    {
     "data": {
      "text/plain": [
       "array([6407186.42709736, 6407186.42709736])"
      ]
     },
     "execution_count": 29,
     "metadata": {},
     "output_type": "execute_result"
    }
   ],
   "source": [
    "from datetime import date\n",
    "size = (2 , past  * 2)\n",
    "finalInput = np.zeros(size)\n",
    "temp = np.zeros(past * 2)\n",
    "temp[:past] = inputs[-past:]\n",
    "temp[past:] = outputs[-past:]\n",
    "finalInput[0] = temp\n",
    "finalInput[1] = temp\n",
    "futurePrediction = model.predict(finalInput)\n",
    "futurePrediction\n",
    "futurePrediction = futurePrediction[0]\n",
    "print(\"Prediction for tomorrow's national coronavirus cases : \" + str(int(futurePrediction)))\n",
    "print(\"Today's date : \" + str(date.today()))"
   ]
  },
  {
   "cell_type": "code",
   "execution_count": 27,
   "metadata": {},
   "outputs": [
    {
     "data": {
      "text/plain": [
       "6407186.427097364"
      ]
     },
     "execution_count": 27,
     "metadata": {},
     "output_type": "execute_result"
    }
   ],
   "source": [
    "betterinputs = betterinputs[0:len(df)-past] \n",
    "betteroutputs = betteroutputs[0:len(df)-past]\n",
    "futurePrediction"
   ]
  },
  {
   "cell_type": "code",
   "execution_count": null,
   "metadata": {},
   "outputs": [],
   "source": []
  }
 ],
 "metadata": {
  "kernelspec": {
   "display_name": "Python 3",
   "language": "python",
   "name": "python3"
  },
  "language_info": {
   "codemirror_mode": {
    "name": "ipython",
    "version": 3
   },
   "file_extension": ".py",
   "mimetype": "text/x-python",
   "name": "python",
   "nbconvert_exporter": "python",
   "pygments_lexer": "ipython3",
   "version": "3.7.4"
  }
 },
 "nbformat": 4,
 "nbformat_minor": 2
}
